{
 "cells": [
  {
   "cell_type": "markdown",
   "metadata": {},
   "source": [
    "# Digit-based Fraud Detection"
   ]
  },
  {
   "cell_type": "code",
   "execution_count": 1,
   "metadata": {},
   "outputs": [],
   "source": [
    "import pandas as pd\n",
    "import numpy as np\n",
    "import matplotlib.pyplot as plt\n",
    "from plotnine import *"
   ]
  },
  {
   "cell_type": "code",
   "execution_count": 2,
   "metadata": {},
   "outputs": [],
   "source": [
    "cand100 = pd.read_csv(f'data/candidatescore100.csv')\n",
    "cand100 = cand100[cand100.score>0]\n",
    "cand100['first_digit'] = cand100.score.map(lambda x: int(str(x)[0]))\n",
    "cand100['last_digit'] = cand100.score.map(lambda x: int(str(x)[-1]))"
   ]
  },
  {
   "cell_type": "code",
   "execution_count": 3,
   "metadata": {},
   "outputs": [
    {
     "data": {
      "text/html": [
       "<div>\n",
       "<style scoped>\n",
       "    .dataframe tbody tr th:only-of-type {\n",
       "        vertical-align: middle;\n",
       "    }\n",
       "\n",
       "    .dataframe tbody tr th {\n",
       "        vertical-align: top;\n",
       "    }\n",
       "\n",
       "    .dataframe thead th {\n",
       "        text-align: right;\n",
       "    }\n",
       "</style>\n",
       "<table border=\"1\" class=\"dataframe\">\n",
       "  <thead>\n",
       "    <tr style=\"text-align: right;\">\n",
       "      <th></th>\n",
       "      <th>จังหวัด</th>\n",
       "      <th>เขตเลือกตั้ง</th>\n",
       "      <th>no</th>\n",
       "      <th>newname</th>\n",
       "      <th>พรรคการเมือง</th>\n",
       "      <th>score</th>\n",
       "      <th>first_digit</th>\n",
       "      <th>last_digit</th>\n",
       "    </tr>\n",
       "  </thead>\n",
       "  <tbody>\n",
       "    <tr>\n",
       "      <th>11139</th>\n",
       "      <td>อุบลราชธานี</td>\n",
       "      <td>10</td>\n",
       "      <td>35</td>\n",
       "      <td>ร้อยตรีเชิดชัย พรพัชระกุล</td>\n",
       "      <td>รักท้องถิ่นไทย</td>\n",
       "      <td>43</td>\n",
       "      <td>4</td>\n",
       "      <td>3</td>\n",
       "    </tr>\n",
       "    <tr>\n",
       "      <th>11140</th>\n",
       "      <td>อุบลราชธานี</td>\n",
       "      <td>10</td>\n",
       "      <td>34</td>\n",
       "      <td>นายสมศรี บุญเหลือ</td>\n",
       "      <td>แทนคุณแผ่นดิน</td>\n",
       "      <td>42</td>\n",
       "      <td>4</td>\n",
       "      <td>2</td>\n",
       "    </tr>\n",
       "    <tr>\n",
       "      <th>11141</th>\n",
       "      <td>อุบลราชธานี</td>\n",
       "      <td>10</td>\n",
       "      <td>36</td>\n",
       "      <td>นางพุดตาล พุฒตาล</td>\n",
       "      <td>ไทรักธรรม</td>\n",
       "      <td>42</td>\n",
       "      <td>4</td>\n",
       "      <td>2</td>\n",
       "    </tr>\n",
       "    <tr>\n",
       "      <th>11142</th>\n",
       "      <td>อุบลราชธานี</td>\n",
       "      <td>10</td>\n",
       "      <td>33</td>\n",
       "      <td>นายบุญมี ทองมาก</td>\n",
       "      <td>ภาคีเครือข่ายไทย</td>\n",
       "      <td>37</td>\n",
       "      <td>3</td>\n",
       "      <td>7</td>\n",
       "    </tr>\n",
       "    <tr>\n",
       "      <th>11143</th>\n",
       "      <td>อุบลราชธานี</td>\n",
       "      <td>10</td>\n",
       "      <td>25</td>\n",
       "      <td>นายบุญกอง มูลสุวรรณ</td>\n",
       "      <td>ภราดรภาพ</td>\n",
       "      <td>35</td>\n",
       "      <td>3</td>\n",
       "      <td>5</td>\n",
       "    </tr>\n",
       "  </tbody>\n",
       "</table>\n",
       "</div>"
      ],
      "text/plain": [
       "           จังหวัด  เขตเลือกตั้ง  no                    newname  \\\n",
       "11139  อุบลราชธานี            10  35  ร้อยตรีเชิดชัย พรพัชระกุล   \n",
       "11140  อุบลราชธานี            10  34          นายสมศรี บุญเหลือ   \n",
       "11141  อุบลราชธานี            10  36           นางพุดตาล พุฒตาล   \n",
       "11142  อุบลราชธานี            10  33            นายบุญมี ทองมาก   \n",
       "11143  อุบลราชธานี            10  25        นายบุญกอง มูลสุวรรณ   \n",
       "\n",
       "           พรรคการเมือง  score  first_digit  last_digit  \n",
       "11139    รักท้องถิ่นไทย     43            4           3  \n",
       "11140     แทนคุณแผ่นดิน     42            4           2  \n",
       "11141         ไทรักธรรม     42            4           2  \n",
       "11142  ภาคีเครือข่ายไทย     37            3           7  \n",
       "11143          ภราดรภาพ     35            3           5  "
      ]
     },
     "execution_count": 3,
     "metadata": {},
     "output_type": "execute_result"
    }
   ],
   "source": [
    "cand100.tail()"
   ]
  },
  {
   "cell_type": "code",
   "execution_count": 4,
   "metadata": {},
   "outputs": [
    {
     "data": {
      "text/html": [
       "<div>\n",
       "<style scoped>\n",
       "    .dataframe tbody tr th:only-of-type {\n",
       "        vertical-align: middle;\n",
       "    }\n",
       "\n",
       "    .dataframe tbody tr th {\n",
       "        vertical-align: top;\n",
       "    }\n",
       "\n",
       "    .dataframe thead th {\n",
       "        text-align: right;\n",
       "    }\n",
       "</style>\n",
       "<table border=\"1\" class=\"dataframe\">\n",
       "  <thead>\n",
       "    <tr style=\"text-align: right;\">\n",
       "      <th></th>\n",
       "      <th>เขตเลือกตั้ง</th>\n",
       "      <th>no</th>\n",
       "      <th>score</th>\n",
       "      <th>first_digit</th>\n",
       "      <th>last_digit</th>\n",
       "    </tr>\n",
       "  </thead>\n",
       "  <tbody>\n",
       "    <tr>\n",
       "      <th>count</th>\n",
       "      <td>10609.000000</td>\n",
       "      <td>10609.000000</td>\n",
       "      <td>10609.000000</td>\n",
       "      <td>10609.000000</td>\n",
       "      <td>10609.000000</td>\n",
       "    </tr>\n",
       "    <tr>\n",
       "      <th>mean</th>\n",
       "      <td>4.494674</td>\n",
       "      <td>16.832501</td>\n",
       "      <td>3349.292770</td>\n",
       "      <td>3.359600</td>\n",
       "      <td>4.559996</td>\n",
       "    </tr>\n",
       "    <tr>\n",
       "      <th>std</th>\n",
       "      <td>4.750843</td>\n",
       "      <td>9.823486</td>\n",
       "      <td>8712.933608</td>\n",
       "      <td>2.408451</td>\n",
       "      <td>2.869754</td>\n",
       "    </tr>\n",
       "    <tr>\n",
       "      <th>min</th>\n",
       "      <td>1.000000</td>\n",
       "      <td>1.000000</td>\n",
       "      <td>3.000000</td>\n",
       "      <td>1.000000</td>\n",
       "      <td>0.000000</td>\n",
       "    </tr>\n",
       "    <tr>\n",
       "      <th>25%</th>\n",
       "      <td>2.000000</td>\n",
       "      <td>8.000000</td>\n",
       "      <td>93.000000</td>\n",
       "      <td>1.000000</td>\n",
       "      <td>2.000000</td>\n",
       "    </tr>\n",
       "    <tr>\n",
       "      <th>50%</th>\n",
       "      <td>3.000000</td>\n",
       "      <td>16.000000</td>\n",
       "      <td>231.000000</td>\n",
       "      <td>3.000000</td>\n",
       "      <td>5.000000</td>\n",
       "    </tr>\n",
       "    <tr>\n",
       "      <th>75%</th>\n",
       "      <td>5.000000</td>\n",
       "      <td>24.000000</td>\n",
       "      <td>812.000000</td>\n",
       "      <td>5.000000</td>\n",
       "      <td>7.000000</td>\n",
       "    </tr>\n",
       "    <tr>\n",
       "      <th>max</th>\n",
       "      <td>30.000000</td>\n",
       "      <td>44.000000</td>\n",
       "      <td>72016.000000</td>\n",
       "      <td>9.000000</td>\n",
       "      <td>9.000000</td>\n",
       "    </tr>\n",
       "  </tbody>\n",
       "</table>\n",
       "</div>"
      ],
      "text/plain": [
       "       เขตเลือกตั้ง            no         score   first_digit    last_digit\n",
       "count  10609.000000  10609.000000  10609.000000  10609.000000  10609.000000\n",
       "mean       4.494674     16.832501   3349.292770      3.359600      4.559996\n",
       "std        4.750843      9.823486   8712.933608      2.408451      2.869754\n",
       "min        1.000000      1.000000      3.000000      1.000000      0.000000\n",
       "25%        2.000000      8.000000     93.000000      1.000000      2.000000\n",
       "50%        3.000000     16.000000    231.000000      3.000000      5.000000\n",
       "75%        5.000000     24.000000    812.000000      5.000000      7.000000\n",
       "max       30.000000     44.000000  72016.000000      9.000000      9.000000"
      ]
     },
     "execution_count": 4,
     "metadata": {},
     "output_type": "execute_result"
    }
   ],
   "source": [
    "cand100.describe()"
   ]
  },
  {
   "cell_type": "markdown",
   "metadata": {},
   "source": [
    "## First-Digit Distribution aka Benford's Law"
   ]
  },
  {
   "cell_type": "code",
   "execution_count": 5,
   "metadata": {},
   "outputs": [
    {
     "data": {
      "image/png": "[encoded data removed]",
      "text/plain": [
       "<Figure size 640x480 with 1 Axes>"
      ]
     },
     "metadata": {},
     "output_type": "display_data"
    },
    {
     "data": {
      "text/plain": [
       "<ggplot: (-9223363294324097578)>"
      ]
     },
     "execution_count": 5,
     "metadata": {},
     "output_type": "execute_result"
    }
   ],
   "source": [
    "def gen_benford(d): return np.log10(d+1) - np.log10(d)\n",
    "first_digit = pd.DataFrame(cand100.first_digit.value_counts() / cand100.shape[0]).reset_index()\n",
    "first_digit.columns = ['digit','per']\n",
    "first_digit['benford'] = first_digit.digit.map(gen_benford)\n",
    "\n",
    "g = (ggplot(first_digit, aes(x='factor(digit)',y='per')) + geom_bar(stat='identity') +\n",
    "    theme_minimal() + scale_y_continuous(labels = lambda x: np.round(x*100,0)) +\n",
    "    geom_text(aes(label='round(per*100,1)',y='per+0.02')) +\n",
    "    geom_line(first_digit, aes(x='factor(digit)',y='benford',group=1,color=1)) +\n",
    "    theme(legend_position='none') +\n",
    "    xlab('First Digit') + ylab('Share of Samples (%)'))\n",
    "g"
   ]
  },
  {
   "cell_type": "markdown",
   "metadata": {},
   "source": [
    "## First Two-Digit Distribution"
   ]
  },
  {
   "cell_type": "code",
   "execution_count": 6,
   "metadata": {},
   "outputs": [
    {
     "data": {
      "text/html": [
       "<div>\n",
       "<style scoped>\n",
       "    .dataframe tbody tr th:only-of-type {\n",
       "        vertical-align: middle;\n",
       "    }\n",
       "\n",
       "    .dataframe tbody tr th {\n",
       "        vertical-align: top;\n",
       "    }\n",
       "\n",
       "    .dataframe thead th {\n",
       "        text-align: right;\n",
       "    }\n",
       "</style>\n",
       "<table border=\"1\" class=\"dataframe\">\n",
       "  <thead>\n",
       "    <tr style=\"text-align: right;\">\n",
       "      <th></th>\n",
       "      <th>จังหวัด</th>\n",
       "      <th>เขตเลือกตั้ง</th>\n",
       "      <th>no</th>\n",
       "      <th>newname</th>\n",
       "      <th>พรรคการเมือง</th>\n",
       "      <th>score</th>\n",
       "      <th>first_digit</th>\n",
       "      <th>last_digit</th>\n",
       "      <th>second_digit</th>\n",
       "      <th>first_2</th>\n",
       "    </tr>\n",
       "  </thead>\n",
       "  <tbody>\n",
       "    <tr>\n",
       "      <th>0</th>\n",
       "      <td>กระบี่</td>\n",
       "      <td>1</td>\n",
       "      <td>18</td>\n",
       "      <td>นายสาคร เกี่ยวข้อง</td>\n",
       "      <td>ประชาธิปัตย์</td>\n",
       "      <td>44346</td>\n",
       "      <td>4</td>\n",
       "      <td>6</td>\n",
       "      <td>4</td>\n",
       "      <td>44</td>\n",
       "    </tr>\n",
       "    <tr>\n",
       "      <th>1</th>\n",
       "      <td>กระบี่</td>\n",
       "      <td>1</td>\n",
       "      <td>2</td>\n",
       "      <td>นายแสงชัย วสุนธรา</td>\n",
       "      <td>พลังประชารัฐ</td>\n",
       "      <td>30381</td>\n",
       "      <td>3</td>\n",
       "      <td>1</td>\n",
       "      <td>0</td>\n",
       "      <td>30</td>\n",
       "    </tr>\n",
       "    <tr>\n",
       "      <th>2</th>\n",
       "      <td>กระบี่</td>\n",
       "      <td>1</td>\n",
       "      <td>15</td>\n",
       "      <td>นายยุทธนา อ่าวลึกน้อย</td>\n",
       "      <td>อนาคตใหม่</td>\n",
       "      <td>17783</td>\n",
       "      <td>1</td>\n",
       "      <td>3</td>\n",
       "      <td>7</td>\n",
       "      <td>17</td>\n",
       "    </tr>\n",
       "    <tr>\n",
       "      <th>3</th>\n",
       "      <td>กระบี่</td>\n",
       "      <td>1</td>\n",
       "      <td>16</td>\n",
       "      <td>นายทวีเกียรติ ใจดี</td>\n",
       "      <td>ประชาชาติ</td>\n",
       "      <td>8484</td>\n",
       "      <td>8</td>\n",
       "      <td>4</td>\n",
       "      <td>4</td>\n",
       "      <td>84</td>\n",
       "    </tr>\n",
       "    <tr>\n",
       "      <th>4</th>\n",
       "      <td>กระบี่</td>\n",
       "      <td>1</td>\n",
       "      <td>10</td>\n",
       "      <td>ว่าที่ พ.ต.กิตติศักดิ์ กิตติสิทโธ</td>\n",
       "      <td>ภูมิใจไทย</td>\n",
       "      <td>4784</td>\n",
       "      <td>4</td>\n",
       "      <td>4</td>\n",
       "      <td>7</td>\n",
       "      <td>47</td>\n",
       "    </tr>\n",
       "  </tbody>\n",
       "</table>\n",
       "</div>"
      ],
      "text/plain": [
       "  จังหวัด  เขตเลือกตั้ง  no                            newname  พรรคการเมือง  \\\n",
       "0  กระบี่             1  18                 นายสาคร เกี่ยวข้อง  ประชาธิปัตย์   \n",
       "1  กระบี่             1   2                  นายแสงชัย วสุนธรา  พลังประชารัฐ   \n",
       "2  กระบี่             1  15              นายยุทธนา อ่าวลึกน้อย     อนาคตใหม่   \n",
       "3  กระบี่             1  16                 นายทวีเกียรติ ใจดี     ประชาชาติ   \n",
       "4  กระบี่             1  10  ว่าที่ พ.ต.กิตติศักดิ์ กิตติสิทโธ     ภูมิใจไทย   \n",
       "\n",
       "   score  first_digit  last_digit  second_digit  first_2  \n",
       "0  44346            4           6             4       44  \n",
       "1  30381            3           1             0       30  \n",
       "2  17783            1           3             7       17  \n",
       "3   8484            8           4             4       84  \n",
       "4   4784            4           4             7       47  "
      ]
     },
     "execution_count": 6,
     "metadata": {},
     "output_type": "execute_result"
    }
   ],
   "source": [
    "c = cand100[cand100.score>=10].copy()\n",
    "c['second_digit'] = c.score.map(lambda x: int(str(x)[1]))\n",
    "c['first_2'] = c.score.map(lambda x: int(str(x)[:2]))\n",
    "c.head()"
   ]
  },
  {
   "cell_type": "code",
   "execution_count": 7,
   "metadata": {},
   "outputs": [
    {
     "data": {
      "image/png": "[encoded data removed]",
      "text/plain": [
       "<Figure size 640x480 with 1 Axes>"
      ]
     },
     "metadata": {},
     "output_type": "display_data"
    },
    {
     "data": {
      "text/plain": [
       "<ggplot: (-9223363294327858025)>"
      ]
     },
     "execution_count": 7,
     "metadata": {},
     "output_type": "execute_result"
    }
   ],
   "source": [
    "first_2 = pd.DataFrame(c.first_2.value_counts() / c.shape[0]).reset_index()\n",
    "first_2.columns = ['digit','per']\n",
    "first_2['benford'] = first_2.digit.map(gen_benford)\n",
    "\n",
    "g = (ggplot(first_2, aes(x='factor(digit)',y='per')) + geom_bar(stat='identity') +\n",
    "    theme_minimal() + scale_y_continuous(labels = lambda x: np.round(x*100,0)) +\n",
    "#     geom_text(aes(label='round(per*100,1)',y='per+0.02')) +\n",
    "    geom_line(first_2, aes(x='factor(digit)',y='benford',group=1,color=1)) +\n",
    "    theme(legend_position='none',axis_text_x=element_blank(), panel_grid=element_blank()) +\n",
    "    xlab('First Two Digits') + ylab('Share of Samples (%)'))\n",
    "g"
   ]
  },
  {
   "cell_type": "markdown",
   "metadata": {},
   "source": [
    "## Last Digit Distribution"
   ]
  },
  {
   "cell_type": "code",
   "execution_count": 8,
   "metadata": {},
   "outputs": [
    {
     "data": {
      "image/png": "[encoded data removed]",
      "text/plain": [
       "<Figure size 640x480 with 1 Axes>"
      ]
     },
     "metadata": {},
     "output_type": "display_data"
    },
    {
     "data": {
      "text/plain": [
       "<ggplot: (8742526815268)>"
      ]
     },
     "execution_count": 8,
     "metadata": {},
     "output_type": "execute_result"
    }
   ],
   "source": [
    "last_digit = pd.DataFrame(cand100.last_digit.value_counts() / cand100.shape[0]).reset_index()\n",
    "last_digit.columns = ['digit','per']\n",
    "\n",
    "g = (ggplot(last_digit, aes(x='factor(digit)',y='per')) + geom_bar(stat='identity') +\n",
    "    theme_minimal() + scale_y_continuous(labels = lambda x: np.round(x*100,0)) +\n",
    "    geom_text(aes(label='round(per*100,1)',y='per+0.01')) +\n",
    "    geom_hline(yintercept=0.1,colour='red') +\n",
    "    xlab('Last Digit') + ylab('Share of Samples (%)'))\n",
    "g"
   ]
  },
  {
   "cell_type": "code",
   "execution_count": null,
   "metadata": {},
   "outputs": [],
   "source": []
  }
 ],
 "metadata": {
  "kernelspec": {
   "display_name": "Python 3",
   "language": "python",
   "name": "python3"
  },
  "language_info": {
   "codemirror_mode": {
    "name": "ipython",
    "version": 3
   },
   "file_extension": ".py",
   "mimetype": "text/x-python",
   "name": "python",
   "nbconvert_exporter": "python",
   "pygments_lexer": "ipython3",
   "version": "3.6.8"
  }
 },
 "nbformat": 4,
 "nbformat_minor": 2
}
